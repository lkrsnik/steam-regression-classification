{
 "cells": [
  {
   "cell_type": "code",
   "execution_count": 1,
   "id": "1bb44827-a885-4e93-8517-94e4244f6d20",
   "metadata": {},
   "outputs": [],
   "source": [
    "import polars as pl\n",
    "import numpy as np\n",
    "import evaluate\n",
    "from datasets import Dataset, DatasetDict\n",
    "from transformers import AutoTokenizer, AutoModelForSequenceClassification, DataCollatorWithPadding, TrainingArguments, Trainer\n",
    "from sklearn.metrics import mean_absolute_error, mean_squared_error, r2_score\n",
    "\n",
    "manual_seed = 23\n",
    "np.random.seed(manual_seed)\n",
    "pl.set_random_seed(manual_seed)"
   ]
  },
  {
   "cell_type": "markdown",
   "id": "b77631e4-08f3-41df-914f-73dcdfb0bb1a",
   "metadata": {},
   "source": [
    "# Load Data"
   ]
  },
  {
   "cell_type": "code",
   "execution_count": 2,
   "id": "79252084-e705-4fe0-ab67-cf8213cccc57",
   "metadata": {},
   "outputs": [],
   "source": [
    "filename = 'data/500k_50k'\n",
    "\n",
    "df_train = pl.read_parquet(filename + '_train.parquet')\n",
    "df_dev = pl.read_parquet(filename + '_dev.parquet')\n",
    "df_test = pl.read_parquet(filename + '_test.parquet')"
   ]
  },
  {
   "cell_type": "markdown",
   "id": "f088cead-20f2-4e23-974c-4408c3491c14",
   "metadata": {},
   "source": [
    "## Selecting relevant columns"
   ]
  },
  {
   "cell_type": "code",
   "execution_count": 3,
   "id": "32a2a13b-746c-42dd-9c29-2794c4a55001",
   "metadata": {},
   "outputs": [],
   "source": [
    "# recommended\n",
    "df_train = df_train.select(['review_text', 'recommended']).rename({'review_text': 'text', 'recommended': 'label'})\n",
    "df_dev = df_dev.select(['review_text', 'recommended']).rename({'review_text': 'text', 'recommended': 'label'})\n",
    "df_test = df_test.select(['review_text', 'recommended']).rename({'review_text': 'text', 'recommended': 'label'})\n",
    "\n",
    "# found funny\n",
    "# df_train = df_train.select(['review_text', 'found_funny']).rename({'review_text': 'text', 'found_funny': 'label'})\n",
    "# df_dev = df_dev.select(['review_text', 'found_funny']).rename({'review_text': 'text', 'found_funny': 'label'})\n",
    "# df_test = df_test.select(['review_text', 'found_funny']).rename({'review_text': 'text', 'found_funny': 'label'})\n",
    "\n",
    "# found_helpful\n",
    "# df_train = df_train.select(['review_text', 'found_helpful']).rename({'review_text': 'text', 'found_helpful': 'label'})\n",
    "# df_dev = df_dev.select(['review_text', 'found_helpful']).rename({'review_text': 'text', 'found_helpful': 'label'})\n",
    "# df_test = df_test.select(['review_text', 'found_helpful']).rename({'review_text': 'text', 'found_helpful': 'label'})"
   ]
  },
  {
   "cell_type": "markdown",
   "id": "f9706b26-1105-469e-8311-1b92f9d47913",
   "metadata": {},
   "source": [
    "## Create dataset for transformers"
   ]
  },
  {
   "cell_type": "code",
   "execution_count": 3,
   "id": "12f13b30-249f-4421-9ea9-4dfc51f7f9c4",
   "metadata": {},
   "outputs": [],
   "source": [
    "dataset = DatasetDict({\n",
    "    'train': Dataset(df_train.to_arrow()),\n",
    "    'dev': Dataset(df_dev.to_arrow()),\n",
    "    'test': Dataset(df_test.to_arrow())\n",
    "})"
   ]
  },
  {
   "cell_type": "markdown",
   "id": "f850681a-2cce-495d-9d72-261dd7609ec6",
   "metadata": {},
   "source": [
    "# Training"
   ]
  },
  {
   "cell_type": "markdown",
   "id": "2d03f782-ccc9-4fc3-aa94-7522d8a92f9f",
   "metadata": {},
   "source": [
    "## Select settings"
   ]
  },
  {
   "cell_type": "code",
   "execution_count": 11,
   "id": "d35da449-2ea5-4aa6-b372-021ed622e833",
   "metadata": {},
   "outputs": [],
   "source": [
    "# configurations DistilBERT\n",
    "# recommend\n",
    "output_dir='models/steam-classification-distilbert500k-recommend'\n",
    "\n",
    "# funny\n",
    "# output_dir='models/steam-classification-distilbert500k-funny'\n",
    "\n",
    "# helpful\n",
    "# output_dir='models/steam-classification-distilbert500k-helpful'\n",
    "\n",
    "model_name = 'distilbert/distilbert-base-uncased'\n",
    "batch_size = 32\n",
    "num_epochs = 1\n",
    "lr = 5e-5\n",
    "num_labels = 2 # use for classification (recommend)\n",
    "# num_labels = 1 # use for regression (funny and helpful)"
   ]
  },
  {
   "cell_type": "code",
   "execution_count": 8,
   "id": "ca15bd70-b0a0-4cef-9406-7d37c6b6154f",
   "metadata": {},
   "outputs": [],
   "source": [
    "# # configurations RoBERTa\n",
    "# # recommend\n",
    "# output_dir='models/steam-classification-roberta500k-recommend'\n",
    "\n",
    "# # funny\n",
    "# # output_dir='models/steam-classification-roberta500k-funny'\n",
    "\n",
    "# # helpful\n",
    "# # output_dir='models/steam-classification-roberta500k-helpful'\n",
    "\n",
    "# model_name = 'FacebookAI/roberta-large'\n",
    "# batch_size = 16\n",
    "# num_epochs = 1\n",
    "# lr = 5e-6\n",
    "# num_labels = 2 # use for classification (recommend)\n",
    "# # num_labels = 1 # use for regression (funny and helpful)"
   ]
  },
  {
   "cell_type": "markdown",
   "id": "df3af34d-3330-40b8-9a36-374bf3c3b316",
   "metadata": {},
   "source": [
    "## Tokenize"
   ]
  },
  {
   "cell_type": "code",
   "execution_count": 8,
   "id": "7a244143-77d9-4ba1-98f5-eeacc80a8a47",
   "metadata": {},
   "outputs": [
    {
     "name": "stderr",
     "output_type": "stream",
     "text": [
      "/home/luka/Development/personal/steam-experiments/venv2/lib/python3.10/site-packages/transformers/tokenization_utils_base.py:1601: FutureWarning: `clean_up_tokenization_spaces` was not set. It will be set to `True` by default. This behavior will be depracted in transformers v4.45, and will be then set to `False` by default. For more details check this issue: https://github.com/huggingface/transformers/issues/31884\n",
      "  warnings.warn(\n",
      "Some weights of RobertaForSequenceClassification were not initialized from the model checkpoint at FacebookAI/roberta-large and are newly initialized: ['classifier.dense.bias', 'classifier.dense.weight', 'classifier.out_proj.bias', 'classifier.out_proj.weight']\n",
      "You should probably TRAIN this model on a down-stream task to be able to use it for predictions and inference.\n"
     ]
    }
   ],
   "source": [
    "tokenizer = AutoTokenizer.from_pretrained(model_name) # automatically selects the correct Tokenizer"
   ]
  },
  {
   "cell_type": "code",
   "execution_count": 9,
   "id": "e5d98950-cf5b-4736-9f47-89f167f784ca",
   "metadata": {},
   "outputs": [
    {
     "data": {
      "application/vnd.jupyter.widget-view+json": {
       "model_id": "edfeb0b9e18f4cbb9025cb04cce2d631",
       "version_major": 2,
       "version_minor": 0
      },
      "text/plain": [
       "Map:   0%|          | 0/500000 [00:00<?, ? examples/s]"
      ]
     },
     "metadata": {},
     "output_type": "display_data"
    },
    {
     "data": {
      "application/vnd.jupyter.widget-view+json": {
       "model_id": "9974a7df79b74386a3d3b0233b34f312",
       "version_major": 2,
       "version_minor": 0
      },
      "text/plain": [
       "Map:   0%|          | 0/50000 [00:00<?, ? examples/s]"
      ]
     },
     "metadata": {},
     "output_type": "display_data"
    },
    {
     "data": {
      "application/vnd.jupyter.widget-view+json": {
       "model_id": "ec503b67fca141ddb1a263eb1406214e",
       "version_major": 2,
       "version_minor": 0
      },
      "text/plain": [
       "Map:   0%|          | 0/50000 [00:00<?, ? examples/s]"
      ]
     },
     "metadata": {},
     "output_type": "display_data"
    }
   ],
   "source": [
    "def tokenize_function(examples):\n",
    "    text = examples['text']\n",
    "    # it is possible to return tensors in pytorch, but then you need to pad everything which uses more memory\n",
    "    # instead we use collator that does that on the fly\n",
    "    return tokenizer(text, truncation=True, return_tensors=\"np\", max_length=128)\n",
    "\n",
    "tokenized_dataset = dataset.map(tokenize_function, batched=True)"
   ]
  },
  {
   "cell_type": "code",
   "execution_count": 10,
   "id": "814b3f41-dd97-4df2-ae7b-9d28002c83fa",
   "metadata": {},
   "outputs": [],
   "source": [
    "data_collator = DataCollatorWithPadding(tokenizer=tokenizer)"
   ]
  },
  {
   "cell_type": "markdown",
   "id": "e200957a-c1dd-480e-805f-b2adbb5e474f",
   "metadata": {},
   "source": [
    "## Evaluation during training"
   ]
  },
  {
   "cell_type": "code",
   "execution_count": 15,
   "id": "b66cdf03-be6c-40e4-8e4d-3b1e77e77a64",
   "metadata": {},
   "outputs": [],
   "source": [
    "# classification\n",
    "accuracy = evaluate.load(\"accuracy\")\n",
    "\n",
    "def compute_metrics(eval_pred):\n",
    "    predictions, labels = eval_pred\n",
    "    predictions = np.argmax(predictions, axis=1)\n",
    "    return {\"accuracy\": accuracy.compute(predictions=predictions, references=labels)['accuracy']}"
   ]
  },
  {
   "cell_type": "code",
   "execution_count": 11,
   "id": "c8d28312-d1fc-434f-b361-9152448c8fda",
   "metadata": {},
   "outputs": [],
   "source": [
    "# regression\n",
    "# def compute_metrics(eval_pred):\n",
    "#     predictions, labels = eval_pred\n",
    "#     labels = labels.reshape(-1, 1)\n",
    "#     mse = mean_squared_error(labels, predictions)\n",
    "#     mae = mean_absolute_error(labels, predictions)\n",
    "#     r2 = r2_score(labels, predictions)\n",
    "#     return {\"mse\": mse, \"mae\": mae, \"r2\": r2}"
   ]
  },
  {
   "cell_type": "markdown",
   "id": "28286237-a975-4317-9c35-1f736847b0c8",
   "metadata": {},
   "source": [
    "## Train"
   ]
  },
  {
   "cell_type": "code",
   "execution_count": 12,
   "id": "cb13d852-1194-4168-a146-11d4539c2c63",
   "metadata": {},
   "outputs": [],
   "source": [
    "model = AutoModelForSequenceDClassification.from_pretrained(model_name, num_labels=num_labels)\n",
    "\n",
    "training_args = TrainingArguments(\n",
    "    output_dir=output_dir,\n",
    "    learning_rate=lr,\n",
    "    weight_decay=0,\n",
    "    per_device_train_batch_size=batch_size,\n",
    "    per_device_eval_batch_size=batch_size,\n",
    "    num_train_epochs=num_epochs,\n",
    "    eval_strategy=\"steps\",\n",
    "    eval_steps=0.1, # eval after 10% is done\n",
    "    save_strategy=\"steps\",\n",
    "    save_steps=0.1, # save after 10% of processing is done\n",
    "    load_best_model_at_end=True,\n",
    ")\n",
    "trainer = Trainer(\n",
    "    model=model,\n",
    "    args=training_args,\n",
    "    train_dataset=tokenized_dataset['train'],\n",
    "    eval_dataset=tokenized_dataset['dev'],\n",
    "    tokenizer=tokenizer,\n",
    "    data_collator=data_collator,\n",
    "    compute_metrics=compute_metrics,\n",
    ")\n",
    "trainer.train()"
   ]
  }
 ],
 "metadata": {
  "kernelspec": {
   "display_name": "Python 3 (ipykernel)",
   "language": "python",
   "name": "python3"
  },
  "language_info": {
   "codemirror_mode": {
    "name": "ipython",
    "version": 3
   },
   "file_extension": ".py",
   "mimetype": "text/x-python",
   "name": "python",
   "nbconvert_exporter": "python",
   "pygments_lexer": "ipython3",
   "version": "3.10.12"
  }
 },
 "nbformat": 4,
 "nbformat_minor": 5
}
