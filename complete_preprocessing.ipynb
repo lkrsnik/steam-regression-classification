{
 "cells": [
  {
   "cell_type": "code",
   "execution_count": 1,
   "id": "hidden-network",
   "metadata": {},
   "outputs": [],
   "source": [
    "import polars as pl\n",
    "import numpy as np\n",
    "import sqlite3\n",
    "import json\n",
    "from datetime import datetime\n",
    "import matplotlib.pyplot as plt\n",
    "import string\n",
    "np.random.seed(152)"
   ]
  },
  {
   "cell_type": "markdown",
   "id": "3c5f6276-14ce-467b-acc9-5d9a8bcf25f1",
   "metadata": {},
   "source": [
    "# Preprocessing"
   ]
  },
  {
   "cell_type": "markdown",
   "id": "795127bb-4fd4-490e-b58d-8751f5fbbcf8",
   "metadata": {},
   "source": [
    "If necessary, adapt sqlite columns to VARCHAR by:\n",
    "```\n",
    "ALTER TABLE product ADD COLUMN new_price VARCHAR;\n",
    "UPDATE product SET new_price = price;\n",
    "ALTER TABLE product DROP COLUMN price;\n",
    "ALTER TABLE product RENAME COLUMN new_price TO price;\n",
    "```\n",
    "```\n",
    "ALTER TABLE review ADD COLUMN new_found_funny VARCHAR;\n",
    "UPDATE review SET new_found_funny = found_funny;\n",
    "ALTER TABLE review DROP COLUMN found_funny;\n",
    "ALTER TABLE review RENAME COLUMN new_found_funny TO found_funny;\n",
    "```"
   ]
  },
  {
   "cell_type": "markdown",
   "id": "eeb710fd-a7e6-43ea-944b-0671436b32fd",
   "metadata": {},
   "source": [
    "## Selecting Features"
   ]
  },
  {
   "cell_type": "code",
   "execution_count": null,
   "id": "0477fd30-1056-4f76-9132-44915f02542a",
   "metadata": {},
   "outputs": [],
   "source": []
  },
  {
   "cell_type": "markdown",
   "id": "07155fb9-4b39-4d90-ac00-edf2161e026e",
   "metadata": {},
   "source": [
    "Selecting features is an art. Often more features translate into better predictions, but it also translates into more time and resource-intensive training and predicting. While you might use some statistical metrics like correlation to quickly see what features impact our predictions most, this gets harder when we have multiple text features. You of course could test how the addition of certain features impacts predictions, but that is again very time and resource-consuming process. It often comes down to which features you think might improve performance the most and then using those. \n",
    "\n",
    "In our case, we want to select only features that seem most relevant to our tasks. Since we are building a model that tries to predict review properties, the most important feature will be the review text. The second most important feature is probably the description of the product the review is related to. Other features seem to have less impact on our predictions. Nonetheless, we could add information about product title, publisher, developer, tags, specs, genre, and price. There might be other features that could contribute to better predictions, but we will stop ourselves here."
   ]
  },
  {
   "cell_type": "markdown",
   "id": "4bab5b78-a47f-4b45-899e-613326da50d9",
   "metadata": {},
   "source": [
    "## Reading"
   ]
  },
  {
   "cell_type": "code",
   "execution_count": 2,
   "id": "8e93cf99-5fdf-42ca-b6b9-f34d225ce816",
   "metadata": {},
   "outputs": [],
   "source": [
    "# db_path = '../dbs/db_micro2.sqlite3'\n",
    "db_path = '../dbs/db2.sqlite3'\n",
    "connection_string = 'sqlite://' + db_path\n",
    "df = pl.read_database_uri('SELECT product_id, text AS review_text, recommended, found_awarding, found_helpful, found_funny FROM review LEFT JOIN product ON product_id = product.id', connection_string)"
   ]
  },
  {
   "cell_type": "code",
   "execution_count": 5,
   "id": "11342d5e-231a-4e46-8750-7e728dbd6191",
   "metadata": {},
   "outputs": [],
   "source": [
    "df_tags = pl.read_database_uri('SELECT tag.name AS tag, product.id AS product_id FROM product_tag JOIN tag ON product_tag.tag_id = tag.id JOIN product ON product_tag.product_id = product.id', connection_string)\n",
    "df_specs = pl.read_database_uri('SELECT spec.name AS spec, product.id AS product_id FROM product_spec JOIN spec ON product_spec.spec_id = spec.id JOIN product ON product_spec.product_id = product.id', connection_string)\n",
    "df_genres = pl.read_database_uri('SELECT genre.name AS genre, product.id AS product_id FROM product_genre JOIN genre ON product_genre.genre_id = genre.id JOIN product ON product_genre.product_id = product.id', connection_string)\n",
    "\n",
    "# add True values for pivot\n",
    "df_tags = df_tags.with_columns(\n",
    "  pl.lit(True).alias('val')\n",
    ")\n",
    "df_specs = df_specs.with_columns(\n",
    "  pl.lit(True).alias('val')\n",
    ")\n",
    "df_genres = df_genres.with_columns(\n",
    "  pl.lit(True).alias('val')\n",
    ")\n",
    "\n",
    "# create pivot tables\n",
    "df_tags = df_tags.pivot('tag', index='product_id').fill_null(False)\n",
    "df_specs = df_specs.pivot('spec', index='product_id').fill_null(False)\n",
    "df_genres = df_genres.pivot('genre', index='product_id').fill_null(False)"
   ]
  },
  {
   "cell_type": "code",
   "execution_count": 6,
   "id": "24b1f78d-20be-4d6b-ab7a-7cf3d061a2ce",
   "metadata": {},
   "outputs": [
    {
     "data": {
      "text/html": [
       "<div><style>\n",
       ".dataframe > thead > tr,\n",
       ".dataframe > tbody > tr {\n",
       "  text-align: right;\n",
       "  white-space: pre-wrap;\n",
       "}\n",
       "</style>\n",
       "<small>shape: (960, 23)</small><table border=\"1\" class=\"dataframe\"><thead><tr><th>product_id</th><th>Casual</th><th>Indie</th><th>Strategy</th><th>Free to Play</th><th>Early Access</th><th>Action</th><th>Adventure</th><th>Simulation</th><th>Sports</th><th>RPG</th><th>Racing</th><th>Design &amp;amp; Illustration</th><th>Web Publishing</th><th>Massively Multiplayer</th><th>Animation &amp;amp; Modeling</th><th>Software Training</th><th>Education</th><th>Utilities</th><th>Game Development</th><th>Photo Editing</th><th>Audio Production</th><th>Video Production</th></tr><tr><td>i64</td><td>bool</td><td>bool</td><td>bool</td><td>bool</td><td>bool</td><td>bool</td><td>bool</td><td>bool</td><td>bool</td><td>bool</td><td>bool</td><td>bool</td><td>bool</td><td>bool</td><td>bool</td><td>bool</td><td>bool</td><td>bool</td><td>bool</td><td>bool</td><td>bool</td><td>bool</td></tr></thead><tbody><tr><td>2655790</td><td>true</td><td>true</td><td>true</td><td>false</td><td>false</td><td>false</td><td>false</td><td>false</td><td>false</td><td>false</td><td>false</td><td>false</td><td>false</td><td>false</td><td>false</td><td>false</td><td>false</td><td>false</td><td>false</td><td>false</td><td>false</td><td>false</td></tr><tr><td>2261640</td><td>true</td><td>true</td><td>false</td><td>true</td><td>true</td><td>false</td><td>false</td><td>false</td><td>false</td><td>false</td><td>false</td><td>false</td><td>false</td><td>false</td><td>false</td><td>false</td><td>false</td><td>false</td><td>false</td><td>false</td><td>false</td><td>false</td></tr><tr><td>1425860</td><td>true</td><td>true</td><td>false</td><td>false</td><td>false</td><td>true</td><td>false</td><td>false</td><td>false</td><td>false</td><td>false</td><td>false</td><td>false</td><td>false</td><td>false</td><td>false</td><td>false</td><td>false</td><td>false</td><td>false</td><td>false</td><td>false</td></tr><tr><td>1397940</td><td>false</td><td>true</td><td>false</td><td>false</td><td>false</td><td>true</td><td>true</td><td>false</td><td>false</td><td>false</td><td>false</td><td>false</td><td>false</td><td>false</td><td>false</td><td>false</td><td>false</td><td>false</td><td>false</td><td>false</td><td>false</td><td>false</td></tr><tr><td>1431620</td><td>true</td><td>true</td><td>false</td><td>false</td><td>false</td><td>true</td><td>false</td><td>false</td><td>false</td><td>false</td><td>false</td><td>false</td><td>false</td><td>false</td><td>false</td><td>false</td><td>false</td><td>false</td><td>false</td><td>false</td><td>false</td><td>false</td></tr><tr><td>&hellip;</td><td>&hellip;</td><td>&hellip;</td><td>&hellip;</td><td>&hellip;</td><td>&hellip;</td><td>&hellip;</td><td>&hellip;</td><td>&hellip;</td><td>&hellip;</td><td>&hellip;</td><td>&hellip;</td><td>&hellip;</td><td>&hellip;</td><td>&hellip;</td><td>&hellip;</td><td>&hellip;</td><td>&hellip;</td><td>&hellip;</td><td>&hellip;</td><td>&hellip;</td><td>&hellip;</td><td>&hellip;</td></tr><tr><td>1412710</td><td>true</td><td>false</td><td>true</td><td>false</td><td>false</td><td>false</td><td>false</td><td>true</td><td>false</td><td>false</td><td>false</td><td>false</td><td>false</td><td>false</td><td>false</td><td>false</td><td>false</td><td>false</td><td>false</td><td>false</td><td>false</td><td>false</td></tr><tr><td>1356410</td><td>true</td><td>true</td><td>false</td><td>false</td><td>false</td><td>false</td><td>false</td><td>false</td><td>false</td><td>false</td><td>false</td><td>false</td><td>false</td><td>false</td><td>false</td><td>false</td><td>false</td><td>false</td><td>false</td><td>false</td><td>false</td><td>false</td></tr><tr><td>381713</td><td>false</td><td>false</td><td>false</td><td>false</td><td>false</td><td>true</td><td>true</td><td>false</td><td>false</td><td>false</td><td>false</td><td>false</td><td>false</td><td>false</td><td>false</td><td>false</td><td>false</td><td>false</td><td>false</td><td>false</td><td>false</td><td>false</td></tr><tr><td>427730</td><td>true</td><td>true</td><td>false</td><td>false</td><td>false</td><td>true</td><td>false</td><td>false</td><td>false</td><td>false</td><td>false</td><td>false</td><td>false</td><td>false</td><td>false</td><td>false</td><td>false</td><td>false</td><td>false</td><td>false</td><td>false</td><td>false</td></tr><tr><td>654660</td><td>false</td><td>true</td><td>false</td><td>false</td><td>false</td><td>false</td><td>false</td><td>false</td><td>false</td><td>false</td><td>false</td><td>false</td><td>false</td><td>false</td><td>false</td><td>false</td><td>false</td><td>false</td><td>false</td><td>false</td><td>false</td><td>false</td></tr></tbody></table></div>"
      ],
      "text/plain": [
       "shape: (960, 23)\n",
       "┌────────────┬────────┬───────┬──────────┬───┬──────────────┬─────────┬──────────────┬─────────────┐\n",
       "│ product_id ┆ Casual ┆ Indie ┆ Strategy ┆ … ┆ Game         ┆ Photo   ┆ Audio        ┆ Video       │\n",
       "│ ---        ┆ ---    ┆ ---   ┆ ---      ┆   ┆ Development  ┆ Editing ┆ Production   ┆ Production  │\n",
       "│ i64        ┆ bool   ┆ bool  ┆ bool     ┆   ┆ ---          ┆ ---     ┆ ---          ┆ ---         │\n",
       "│            ┆        ┆       ┆          ┆   ┆ bool         ┆ bool    ┆ bool         ┆ bool        │\n",
       "╞════════════╪════════╪═══════╪══════════╪═══╪══════════════╪═════════╪══════════════╪═════════════╡\n",
       "│ 2655790    ┆ true   ┆ true  ┆ true     ┆ … ┆ false        ┆ false   ┆ false        ┆ false       │\n",
       "│ 2261640    ┆ true   ┆ true  ┆ false    ┆ … ┆ false        ┆ false   ┆ false        ┆ false       │\n",
       "│ 1425860    ┆ true   ┆ true  ┆ false    ┆ … ┆ false        ┆ false   ┆ false        ┆ false       │\n",
       "│ 1397940    ┆ false  ┆ true  ┆ false    ┆ … ┆ false        ┆ false   ┆ false        ┆ false       │\n",
       "│ 1431620    ┆ true   ┆ true  ┆ false    ┆ … ┆ false        ┆ false   ┆ false        ┆ false       │\n",
       "│ …          ┆ …      ┆ …     ┆ …        ┆ … ┆ …            ┆ …       ┆ …            ┆ …           │\n",
       "│ 1412710    ┆ true   ┆ false ┆ true     ┆ … ┆ false        ┆ false   ┆ false        ┆ false       │\n",
       "│ 1356410    ┆ true   ┆ true  ┆ false    ┆ … ┆ false        ┆ false   ┆ false        ┆ false       │\n",
       "│ 381713     ┆ false  ┆ false ┆ false    ┆ … ┆ false        ┆ false   ┆ false        ┆ false       │\n",
       "│ 427730     ┆ true   ┆ true  ┆ false    ┆ … ┆ false        ┆ false   ┆ false        ┆ false       │\n",
       "│ 654660     ┆ false  ┆ true  ┆ false    ┆ … ┆ false        ┆ false   ┆ false        ┆ false       │\n",
       "└────────────┴────────┴───────┴──────────┴───┴──────────────┴─────────┴──────────────┴─────────────┘"
      ]
     },
     "execution_count": 6,
     "metadata": {},
     "output_type": "execute_result"
    }
   ],
   "source": [
    "df_genres"
   ]
  },
  {
   "cell_type": "markdown",
   "id": "behind-interest",
   "metadata": {},
   "source": [
    "# Data wrangling"
   ]
  },
  {
   "cell_type": "markdown",
   "id": "academic-disclosure",
   "metadata": {},
   "source": [
    "### Investigate selected features"
   ]
  },
  {
   "cell_type": "markdown",
   "id": "d9ef9003-3a9a-4d47-aa48-765d1d4e6024",
   "metadata": {},
   "source": [
    "TODO:\n",
    "- Add one-hot encodings to input data\n",
    "- Build models\n",
    "- Evaluate results"
   ]
  },
  {
   "cell_type": "markdown",
   "id": "aa182d04-fd71-4842-88d2-8632a6ff1f9b",
   "metadata": {},
   "source": [
    "### Formatting data"
   ]
  },
  {
   "cell_type": "markdown",
   "id": "613bf077-212b-42ad-9065-1d03b727ee52",
   "metadata": {},
   "source": [
    "#### Convert to integers"
   ]
  },
  {
   "cell_type": "code",
   "execution_count": 3,
   "id": "77ea6b4f-55e5-4a3c-8626-9283ad14d9f4",
   "metadata": {},
   "outputs": [],
   "source": [
    "# convert to integers\n",
    "df = df.with_columns(\n",
    "    # cast features to minimal viable types\n",
    "    pl.col(\"found_funny\").cast(pl.UInt16, strict=False).fill_null(strategy=\"zero\"),\n",
    "    pl.col(\"found_awarding\").cast(pl.UInt16, strict=False).fill_null(strategy=\"zero\"),\n",
    "    pl.col(\"found_helpful\").cast(pl.UInt16, strict=False).fill_null(strategy=\"zero\"),\n",
    "    # pl.col(\"recommended\").cast(pl.UInt8).cast(pl.Boolean),\n",
    "    # pl.col(\"price\").str.replace(\"€\", \"\").cast(pl.Float32, strict=False).fill_null(strategy=\"zero\")\n",
    ")"
   ]
  },
  {
   "cell_type": "markdown",
   "id": "7b129fad-044a-438f-ab24-6d642b3aa9f3",
   "metadata": {},
   "source": [
    "#### Choosing and calculating regression metric"
   ]
  },
  {
   "cell_type": "markdown",
   "id": "54065551-9489-4c44-bd7a-51e230b7a26f",
   "metadata": {},
   "source": [
    "We are trying to predict how funny, helpful, and awarding a review is. We have insight into this because people on Steam vote for reviews in each category. The easiest metric we could use is to try to predict how many people found a review funny. The problem is, that some reviews have more views than others, so it is only logical that those viewed less have fewer votes. Unfortunately, we don't have information about the number of views of a review, so we have to find another way to consider this metric.\n",
    "\n",
    "We could do this by normalizing each metric by product. We would have values between 0 and 1, where 0 would indicate no votes for that review and 1 would tell us that this is the most upvoted product review. This metric assumes, that all reviews of specific products had equal opportunity to be upvoted. This is probably related to numerous other factors, like which comments are highlighted by Steam, how many people were active when that review was written etc., but it still gives us some insight into how well a review was written for a specific product. The downside is that products with few views are treated equally as products with many views. This is problematic because it is much harder to write the best (or close to the best) review when there are more reviews. Values in less popular products would therefore be much higher than others.\n",
    "\n",
    "So far we proposed two metrics, one that evaluates reviews overall, ignoring that some may be less viewed than others, and the second that acknowledges this fact but skews less viewed votes upwards. Is it possible to get a better metric that is a compromise of the two? To do this I propose a metric that is calculated using information about how upvoted a review was to others of the same product, and all other reviews. It should regard both values equally, so it is calculated as their sum, divided by two."
   ]
  },
  {
   "cell_type": "code",
   "execution_count": 4,
   "id": "4492cb1a-14b5-4dd0-8031-463138029082",
   "metadata": {},
   "outputs": [],
   "source": [
    "def clip_column(df, column_name, quantile=0.999, new_column_name=None):\n",
    "    \"\"\"\n",
    "    When a value in a specified column falls outside the specified quantile, make it equal to the largest value in the specified quantile.\n",
    "    This is used to clip big outliers for \n",
    "    \"\"\"\n",
    "    if new_column_name is None:\n",
    "        new_column_name = column_name\n",
    "    cutoff_value = df.select(column_name).quantile(0.999)\n",
    "    return pl.when(pl.col(column_name) > cutoff_value).then(cutoff_value).otherwise(pl.col(column_name)).alias(new_column_name), cutoff_value"
   ]
  },
  {
   "cell_type": "code",
   "execution_count": 5,
   "id": "06220fdb-fbee-4058-806d-1b47f110e49c",
   "metadata": {},
   "outputs": [],
   "source": [
    "found_funny_expr, found_funny_cutoff_value = clip_column(df, 'found_funny', new_column_name='found_funny_cutoff')\n",
    "found_awarding_expr, found_awarding_cutoff_value = clip_column(df, 'found_awarding', new_column_name='found_awarding_cutoff')\n",
    "found_helpful_expr, found_helpful_cutoff_value = clip_column(df, 'found_helpful', new_column_name='found_helpful_cutoff')"
   ]
  },
  {
   "cell_type": "code",
   "execution_count": 6,
   "id": "1cd6bf27-2946-48b1-a132-e6ac7c6bb30c",
   "metadata": {},
   "outputs": [],
   "source": [
    "df = df.with_columns(\n",
    "    found_funny_expr,\n",
    "    found_awarding_expr,\n",
    "    found_helpful_expr\n",
    ")"
   ]
  },
  {
   "cell_type": "code",
   "execution_count": 8,
   "id": "ef3d595c-a3be-4d7e-802b-0e50c6171d18",
   "metadata": {},
   "outputs": [],
   "source": [
    "# create normalized metrics\n",
    "df = df.with_columns(\n",
    "    (\n",
    "        (\n",
    "            (pl.col(\"found_funny_cutoff\") / pl.col(\"found_funny_cutoff\").max()) + \n",
    "            (pl.col(\"found_funny_cutoff\") / pl.col(\"found_funny_cutoff\").max()).over(\"product_id\")\n",
    "        ) / 2).fill_nan(0.0).alias(\"found_funny\"),\n",
    "    (\n",
    "        (\n",
    "            (pl.col(\"found_helpful_cutoff\") / pl.col(\"found_helpful_cutoff\").max()) + \n",
    "            (pl.col(\"found_helpful_cutoff\") / pl.col(\"found_helpful_cutoff\").max()).over(\"product_id\")\n",
    "        ) / 2).fill_nan(0.0).alias(\"found_helpful\"),\n",
    "    (\n",
    "        (\n",
    "            (pl.col(\"found_awarding_cutoff\") / pl.col(\"found_awarding_cutoff\").max()) + \n",
    "            (pl.col(\"found_awarding_cutoff\") / pl.col(\"found_awarding_cutoff\").max()).over(\"product_id\")\n",
    "        ) / 2).fill_nan(0.0).alias(\"found_awarding\")#,\n",
    "    #(pl.col(\"price\") / pl.col(\"price\").max()).fill_nan(0.0)\n",
    ")"
   ]
  },
  {
   "cell_type": "code",
   "execution_count": 9,
   "id": "0d023868-02b4-4782-93fe-b77f86210ad7",
   "metadata": {},
   "outputs": [],
   "source": [
    "df = df.drop([\"found_funny_cutoff\", \"found_helpful_cutoff\", \"found_awarding_cutoff\"])"
   ]
  },
  {
   "cell_type": "code",
   "execution_count": 10,
   "id": "0eaf75ae-ed24-4394-ae61-c4ab7b87f278",
   "metadata": {},
   "outputs": [
    {
     "data": {
      "text/html": [
       "<div><style>\n",
       ".dataframe > thead > tr,\n",
       ".dataframe > tbody > tr {\n",
       "  text-align: right;\n",
       "  white-space: pre-wrap;\n",
       "}\n",
       "</style>\n",
       "<small>shape: (9, 7)</small><table border=\"1\" class=\"dataframe\"><thead><tr><th>statistic</th><th>product_id</th><th>review_text</th><th>recommended</th><th>found_awarding</th><th>found_helpful</th><th>found_funny</th></tr><tr><td>str</td><td>f64</td><td>str</td><td>str</td><td>f64</td><td>f64</td><td>f64</td></tr></thead><tbody><tr><td>&quot;count&quot;</td><td>4.4143476e7</td><td>&quot;44143476&quot;</td><td>&quot;44143476&quot;</td><td>4.4143476e7</td><td>4.4143476e7</td><td>4.4143476e7</td></tr><tr><td>&quot;null_count&quot;</td><td>0.0</td><td>&quot;0&quot;</td><td>&quot;0&quot;</td><td>0.0</td><td>0.0</td><td>0.0</td></tr><tr><td>&quot;mean&quot;</td><td>749954.496783</td><td>null</td><td>null</td><td>0.005895</td><td>0.010092</td><td>0.00686</td></tr><tr><td>&quot;std&quot;</td><td>620549.6959</td><td>null</td><td>null</td><td>0.050572</td><td>0.055116</td><td>0.049868</td></tr><tr><td>&quot;min&quot;</td><td>20.0</td><td>&quot;&quot;</td><td>&quot;0&quot;</td><td>0.0</td><td>0.0</td><td>0.0</td></tr><tr><td>&quot;25%&quot;</td><td>269210.0</td><td>null</td><td>null</td><td>0.0</td><td>0.0</td><td>0.0</td></tr><tr><td>&quot;50%&quot;</td><td>573100.0</td><td>null</td><td>null</td><td>0.0</td><td>0.0</td><td>0.0</td></tr><tr><td>&quot;75%&quot;</td><td>1.14962e6</td><td>null</td><td>null</td><td>0.0</td><td>0.004</td><td>0.0</td></tr><tr><td>&quot;max&quot;</td><td>3.11778e6</td><td>&quot;󠇰󠇰󠇰󠇰󠇰󠇰󠇰󠇰󠇰󠇰󠇰󠇰󠇰󠇰󠇰󠇰󠇰󠇰󠇰󠇰󠇰󠇰󠇰󠇰󠇰󠇰󠇰󠇰󠇰󠇰…</td><td>&quot;1&quot;</td><td>1.0</td><td>1.0</td><td>1.0</td></tr></tbody></table></div>"
      ],
      "text/plain": [
       "shape: (9, 7)\n",
       "┌────────────┬──────────────┬─────────────┬─────────────┬──────────────┬─────────────┬─────────────┐\n",
       "│ statistic  ┆ product_id   ┆ review_text ┆ recommended ┆ found_awardi ┆ found_helpf ┆ found_funny │\n",
       "│ ---        ┆ ---          ┆ ---         ┆ ---         ┆ ng           ┆ ul          ┆ ---         │\n",
       "│ str        ┆ f64          ┆ str         ┆ str         ┆ ---          ┆ ---         ┆ f64         │\n",
       "│            ┆              ┆             ┆             ┆ f64          ┆ f64         ┆             │\n",
       "╞════════════╪══════════════╪═════════════╪═════════════╪══════════════╪═════════════╪═════════════╡\n",
       "│ count      ┆ 4.4143476e7  ┆ 44143476    ┆ 44143476    ┆ 4.4143476e7  ┆ 4.4143476e7 ┆ 4.4143476e7 │\n",
       "│ null_count ┆ 0.0          ┆ 0           ┆ 0           ┆ 0.0          ┆ 0.0         ┆ 0.0         │\n",
       "│ mean       ┆ 749954.49678 ┆ null        ┆ null        ┆ 0.005895     ┆ 0.010092    ┆ 0.00686     │\n",
       "│            ┆ 3            ┆             ┆             ┆              ┆             ┆             │\n",
       "│ std        ┆ 620549.6959  ┆ null        ┆ null        ┆ 0.050572     ┆ 0.055116    ┆ 0.049868    │\n",
       "│ min        ┆ 20.0         ┆             ┆ 0           ┆ 0.0          ┆ 0.0         ┆ 0.0         │\n",
       "│ 25%        ┆ 269210.0     ┆ null        ┆ null        ┆ 0.0          ┆ 0.0         ┆ 0.0         │\n",
       "│ 50%        ┆ 573100.0     ┆ null        ┆ null        ┆ 0.0          ┆ 0.0         ┆ 0.0         │\n",
       "│ 75%        ┆ 1.14962e6    ┆ null        ┆ null        ┆ 0.0          ┆ 0.004       ┆ 0.0         │\n",
       "│ max        ┆ 3.11778e6    ┆ 󠇰󠇰󠇰󠇰󠇰󠇰󠇰󠇰󠇰󠇰󠇰󠇰󠇰󠇰󠇰󠇰󠇰󠇰󠇰󠇰󠇰󠇰󠇰󠇰󠇰󠇰󠇰󠇰󠇰󠇰…           ┆ 1           ┆ 1.0          ┆ 1.0         ┆ 1.0         │\n",
       "└────────────┴──────────────┴─────────────┴─────────────┴──────────────┴─────────────┴─────────────┘"
      ]
     },
     "execution_count": 10,
     "metadata": {},
     "output_type": "execute_result"
    }
   ],
   "source": [
    "df.describe()"
   ]
  },
  {
   "cell_type": "markdown",
   "id": "f87fe91f-8d61-4fba-a850-7e8522157494",
   "metadata": {},
   "source": [
    "# Investigating review_text"
   ]
  },
  {
   "cell_type": "code",
   "execution_count": 62,
   "id": "d72ccc49-27e0-4453-9bd4-7db691e43eea",
   "metadata": {},
   "outputs": [
    {
     "name": "stdout",
     "output_type": "stream",
     "text": [
      "['a', 'b', 'c', 'd', 'e', 'f', 'g', 'h', 'i', 'j', 'k', 'l', 'm', 'n', 'o', 'p', 'q', 'r', 's', 't', 'u', 'v', 'w', 'x', 'y', 'z', 'A', 'B', 'C', 'D', 'E', 'F', 'G', 'H', 'I', 'J', 'K', 'L', 'M', 'N', 'O', 'P', 'Q', 'R', 'S', 'T', 'U', 'V', 'W', 'X', 'Y', 'Z']\n",
      "\"hi\"\n",
      "\"yes it is a fantastic game\"\n",
      "\"Well, I cant say this game is either good or bad. During tutorial, I feels that it will be fun to play, so I decide to play Online, and they say I'm require to have at least one character to join online multiplayer. So it bring me to the shop, I selected one character and click buy with the starting in game currency that they provide, the process for it to comfirm took so long until I disconnect from the server. When I login, I noticed that my in game currency have been deducted but they didn't give me the character that i selected. So, since the in game currency they give allow you to buy two character, I still maintain my positive attitude, and try purchase another character with the balance currency, and guess what, the same ♥♥♥♥ happen again. So now my account can only be use for playing tutorial and practice. I hope the GM will help to fix the problem I'm facing.\"\n",
      "\"I usually want to play CRPGs, but can't finish them. Either I hit a brick wall of difficulty or one little annoyance builds upon another until I no longer want to play. Pathfinder Kingmaker has been pleasantly different.\n",
      "The sprawling adventure-scape offers many alternative things to do when you hit a TPK, and the interface seems well made. My only UI annoyances so far are a lack of a standard buffing routine macro, and an apparent lack of command queuing.\"\n",
      "\"OK BOOMER\"\n",
      "\"Another candidate for the \"meh\" button.\n",
      "It's not bad, just not as good as it could be with a few fixes. Or even better with a lot of time.\n",
      "Get it cheap and it's entertainment for a while.\n",
      "The story is basic but good enough. The hidden object puzzles are OK. Voices are fine, if not great. No real animation, unfortunately, not even for mouth movement. But it's a hidden object game, so it's not really that important.\n",
      "At several times the game is misleading - it shows you a collected object with the caption \"place it\", but you CANNOT place it - YET. But because you are still missing something else, the game doesn't tell you to leave - so you end up trying to place an item that has no place yet.\n",
      "Objects that require additional steps (i.e. are hidden from view right now) are semi-transparent in your to-do list. Unfortunately, some objects naturally look that way, so it's hard to tell if you need to find it NOW, or do some steps before you can find it.\n",
      "Near the end there is a room where the game tells you that you've found everything - and shows a big popup that you have to click to leave the room.\n",
      "Unfortunately that popup covers an important piece that you HAVE to memorize to continue in another room. (Spoiler: Fuse box.)\"\n",
      "\"good\"\n",
      "\"Game is Verry good\"\n",
      "\"guys how do i sex?.??\"\n",
      "\"badass 9000\\10\"\n"
     ]
    }
   ],
   "source": [
    "print(list(string.ascii_lowercase) + list(string.ascii_uppercase))\n",
    "i = 0\n",
    "for review in df.select(['review_text']).sample(10).iter_rows():\n",
    "    print(f'\"{review[0]}\"')\n",
    "    #print(review[0].contains(list(string.ascii_lowercase) + list(string.ascii_uppercase)))\n",
    "    i += 1\n",
    "    if i == 10:\n",
    "        break"
   ]
  },
  {
   "cell_type": "code",
   "execution_count": 13,
   "id": "34fd06ef-28da-43e4-9ecc-2992eb25928f",
   "metadata": {},
   "outputs": [
    {
     "data": {
      "text/plain": [
       "(43163082, 6)"
      ]
     },
     "execution_count": 13,
     "metadata": {},
     "output_type": "execute_result"
    }
   ],
   "source": [
    "df.shape"
   ]
  },
  {
   "cell_type": "code",
   "execution_count": 12,
   "id": "4cdb5a25-6ac0-4815-a161-6711d8b94ecb",
   "metadata": {},
   "outputs": [],
   "source": [
    "# Filter out reviews that don't contain any letters.\n",
    "df = df.filter(pl.col('review_text').str.contains_any(list(string.ascii_lowercase) + list(string.ascii_uppercase)))"
   ]
  },
  {
   "cell_type": "code",
   "execution_count": 14,
   "id": "158d4086-b622-415d-a622-5e92803869b5",
   "metadata": {},
   "outputs": [],
   "source": [
    "# split into train test dev\n",
    "np.random.seed(15)\n",
    "df_split = df.select(\"product_id\").unique(\"product_id\").sort(\"product_id\")\n",
    "df_split = df_split.with_columns(\n",
    "    pl.lit(np.random.rand(df_split.height)).alias(\"split\")\n",
    ")\n",
    "df_split = df_split.with_columns(\n",
    "    pl.when(pl.col(\"split\") < 0.8).then(pl.lit(\"train\")).otherwise(pl.when(pl.col(\"split\") < 0.9).then(pl.lit(\"test\")).otherwise(pl.lit(\"dev\"))).alias(\"split\")\n",
    ")\n",
    "df_dict = df.join(df_split, on=\"product_id\", how=\"left\").partition_by(\"split\", as_dict=True, include_key=False)\n",
    "# df_split[\"split\"].value_counts()"
   ]
  },
  {
   "cell_type": "code",
   "execution_count": 15,
   "id": "12c7ed9e-03e4-4f3b-a8da-d3a357b7d03f",
   "metadata": {},
   "outputs": [
    {
     "name": "stdout",
     "output_type": "stream",
     "text": [
      "33657650\n",
      "4465061\n",
      "5040371\n"
     ]
    }
   ],
   "source": [
    "print(df_dict[(\"train\",)].shape[0])\n",
    "print(df_dict[(\"test\",)].shape[0])\n",
    "print(df_dict[(\"dev\",)].shape[0])"
   ]
  },
  {
   "cell_type": "code",
   "execution_count": 16,
   "id": "4aae524d-684e-4e5a-a62d-d10051aa26a6",
   "metadata": {},
   "outputs": [],
   "source": [
    "def write_parquet(df_dict, filename):\n",
    "    df_dict[(\"train\",)].write_parquet(filename + '_train.parquet')\n",
    "    df_dict[(\"test\",)].write_parquet(filename + '_test.parquet')\n",
    "    df_dict[(\"dev\",)].write_parquet(filename + '_dev.parquet')\n",
    "\n",
    "write_parquet(df_dict, \"data/complete_cleaned\")"
   ]
  },
  {
   "cell_type": "markdown",
   "id": "7c1fd051-c584-4be9-b1d6-a5bd02b74092",
   "metadata": {},
   "source": []
  }
 ],
 "metadata": {
  "kernelspec": {
   "display_name": "Python 3 (ipykernel)",
   "language": "python",
   "name": "python3"
  },
  "language_info": {
   "codemirror_mode": {
    "name": "ipython",
    "version": 3
   },
   "file_extension": ".py",
   "mimetype": "text/x-python",
   "name": "python",
   "nbconvert_exporter": "python",
   "pygments_lexer": "ipython3",
   "version": "3.10.12"
  }
 },
 "nbformat": 4,
 "nbformat_minor": 5
}
